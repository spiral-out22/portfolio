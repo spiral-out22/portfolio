{
 "cells": [
  {
   "cell_type": "code",
   "execution_count": null,
   "id": "77a3be64-8365-4894-a691-8949b3f67ffc",
   "metadata": {},
   "outputs": [],
   "source": [
    "\n",
    "import numpy as np\n",
    "from pathlib import Path\n",
    "from sklearn.decomposition import PCA\n",
    "import tarfile\n",
    "import pandas as pd"
   ]
  },
  {
   "cell_type": "code",
   "execution_count": null,
   "id": "c04f611d-1bb2-4d88-af01-260f0f993f35",
   "metadata": {},
   "outputs": [
    {
     "data": {
      "text/plain": [
       "(393, 393, 64)"
      ]
     },
     "execution_count": 21,
     "metadata": {},
     "output_type": "execute_result"
    }
   ],
   "source": [
    "n_components = 6"
   ]
  },
  {
   "cell_type": "code",
   "execution_count": 3,
   "id": "fd8c63ec-3f14-4a48-aed8-3270b9b6af37",
   "metadata": {},
   "outputs": [
    {
     "data": {
      "text/plain": [
       "(77028,)"
      ]
     },
     "execution_count": 3,
     "metadata": {},
     "output_type": "execute_result"
    }
   ],
   "source": [
    "#Load wild-type disto\n",
    "\n",
    "WT = np.load('prova/embeddings_WT.npz')\n",
    "WT_pre_disto = WT['disto']\n",
    "WT_disto = WT_pre_disto.squeeze()\n",
    "\n",
    "dist = np.linspace(2, 22, 64)\n",
    "wt_mode_matrix = dist[np.argmax(WT_disto, axis=2)]\n",
    "\n",
    "#linearize matrix\n",
    "wt_vector = wt_mode_matrix[np.triu_indices(wt_mode_matrix.shape[0], k=1)]\n",
    "\n",
    "wt_vector.shape"
   ]
  },
  {
   "cell_type": "code",
   "execution_count": 22,
   "id": "03f68ba5-76a2-4254-b7d8-9ea8c279fcad",
   "metadata": {},
   "outputs": [],
   "source": [
    "def linearize_disto_npz(file):\n",
    "    try:\n",
    "        variant = np.load(file)       \n",
    "    except:\n",
    "        return None    \n",
    "    pre_disto = variant['disto']\n",
    "\n",
    "    disto = pre_disto.squeeze()\n",
    "\n",
    "    #Create a list of labels (the distances bins)\n",
    "    labels = np.linspace(2, 22, 64)\n",
    "\n",
    "    #Extract the most probable distance inferred by Boltz\n",
    "    mode_matrix = labels[np.argmax(disto, axis=2)]\n",
    "\n",
    "    #Linearize using the upper triangular matrix\n",
    "    linear_upper = mode_matrix[np.triu_indices(mode_matrix.shape[0], k=1)]\n",
    "\n",
    "    linear_upper.shape\n",
    "\n",
    "    return(linear_upper)"
   ]
  },
  {
   "cell_type": "code",
   "execution_count": 24,
   "id": "c33dae05",
   "metadata": {},
   "outputs": [],
   "source": [
    "error = []\n",
    "vector = []\n",
    "var = []\n",
    "\n",
    "with tarfile.open('prova/dummy.tar', 'r') as tar:\n",
    "    for member in tar :\n",
    "        with tar.extractfile(member) as f:\n",
    "            mut_vector = linearize_disto_npz(f)\n",
    "            if mut_vector is None:\n",
    "                error.append(member.name)\n",
    "                continue\n",
    "            mut_name = Path(member.name).stem.split('_')[1]  # estrae variante\n",
    "\n",
    "            vect_diff = wt_vector - mut_vector\n",
    "            vector.append(vect_diff)\n",
    "            var.append(mut_name)"
   ]
  },
  {
   "cell_type": "code",
   "execution_count": null,
   "id": "e7d22e7a",
   "metadata": {},
   "outputs": [
    {
     "name": "stdout",
     "output_type": "stream",
     "text": [
      "6 ['A119C', 'A119D', 'A119E', 'A119F', 'A119G', 'WT']\n"
     ]
    }
   ],
   "source": [
    "\n",
    "print(len(vector) , var)\n"
   ]
  },
  {
   "cell_type": "code",
   "execution_count": null,
   "id": "742f757e-3162-4f1f-9155-c4972569e2c2",
   "metadata": {},
   "outputs": [],
   "source": [
    "#Stack list into matrix\n",
    "X = np.vstack(vector)\n",
    "\n",
    "#Remove all-zero columns\n",
    "v_difference_matrix = X[:, ~(X == 0).all(0)]\n",
    "\n",
    "#Apply PCA to X\n",
    "pca = PCA(n_components=n_components)\n",
    "X_pca = pca.fit_transform(X)\n",
    "\n",
    "#Save PCA embeddings to CSV\n",
    "df1 = pd.DataFrame(X_pca, columns=[i for i in range(n_components)])\n",
    "df1.insert(0,\"\", var)\n",
    "df1.to_csv(\"pca_dummy.csv\", index=False)\n",
    "\n",
    "#Save vector differences embedding to CSV\n",
    "df2 = pd.DataFrame(v_difference_matrix, columns=[i for i in range(v_difference_matrix.shape[1])])\n",
    "df2.insert(0,\"\", var)\n",
    "df2.to_csv(\"vector_difference_dummy.csv\", index=False)"
   ]
  },
  {
   "cell_type": "code",
   "execution_count": null,
   "id": "322f7c68",
   "metadata": {},
   "outputs": [],
   "source": []
  }
 ],
 "metadata": {
  "kernelspec": {
   "display_name": "evolvepro",
   "language": "python",
   "name": "python3"
  },
  "language_info": {
   "codemirror_mode": {
    "name": "ipython",
    "version": 3
   },
   "file_extension": ".py",
   "mimetype": "text/x-python",
   "name": "python",
   "nbconvert_exporter": "python",
   "pygments_lexer": "ipython3",
   "version": "3.11.11"
  }
 },
 "nbformat": 4,
 "nbformat_minor": 5
}
