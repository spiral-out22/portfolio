{
 "cells": [
  {
   "cell_type": "code",
   "execution_count": 1,
   "id": "bb1cd963",
   "metadata": {},
   "outputs": [],
   "source": [
    "import pandas as pd\n",
    "import seaborn as sns\n",
    "import matplotlib.pyplot as plt\n",
    "from sklearn.metrics import ndcg_score\n",
    "from scipy.stats import spearmanr\n",
    "from sklearn.metrics import average_precision_score\n",
    "from pathlib import Path\n",
    "import re"
   ]
  },
  {
   "cell_type": "code",
   "execution_count": null,
   "id": "0657da66",
   "metadata": {},
   "outputs": [],
   "source": [
    "PATH_FOLDER = Path('giacomelli_esm2_t33_650M_UR50D_RF1k')\n",
    "LOG_NAME = \"giacomelli_mean_metrics_esm2\"\n",
    "reference = pd.read_csv('giacomelli_ref.csv')\n",
    "k_value = 10\n",
    "cutoff = 1\n",
    "aggregate_metrics = True\n",
    "plotting_spearman = True\n",
    "graph_title = 'whatever'"
   ]
  },
  {
   "cell_type": "code",
   "execution_count": 3,
   "id": "afa47e0a",
   "metadata": {},
   "outputs": [
    {
     "name": "stdout",
     "output_type": "stream",
     "text": [
      "minimum value -3.943922005\n",
      "maximum value 2.533066897\n",
      "minimum_shifted 0.0\n",
      "maximum_shifted 6.476988902\n"
     ]
    },
    {
     "data": {
      "application/vnd.microsoft.datawrangler.viewer.v0+json": {
       "columns": [
        {
         "name": "index",
         "rawType": "int64",
         "type": "integer"
        },
        {
         "name": "hgvs_pro",
         "rawType": "object",
         "type": "string"
        },
        {
         "name": "score",
         "rawType": "float64",
         "type": "float"
        },
        {
         "name": "activity_scaled",
         "rawType": "float64",
         "type": "float"
        },
        {
         "name": "score_shifted",
         "rawType": "float64",
         "type": "float"
        },
        {
         "name": "binary_true",
         "rawType": "int64",
         "type": "integer"
        }
       ],
       "ref": "3e335ecb-f537-4348-bb1c-581be21805aa",
       "rows": [
        [
         "2225",
         "A119E",
         "2.533066897",
         "1.0",
         "6.476988902",
         "1"
        ],
        [
         "628",
         "P34C",
         "2.099894376",
         "0.933121311838864",
         "6.043816381",
         "1"
        ],
        [
         "7017",
         "S371H",
         "1.971965374",
         "0.913370003949406",
         "5.915887379",
         "1"
        ],
        [
         "7440",
         "D393P",
         "1.950753757",
         "0.910095084488999",
         "5.894675762",
         "1"
        ],
        [
         "7210",
         "K381M",
         "1.916445589",
         "0.90479815276361",
         "5.860367594",
         "1"
        ],
        [
         "2128",
         "L114A",
         "1.901524915",
         "0.902494509168452",
         "5.8454469200000005",
         "1"
        ],
        [
         "942",
         "I50P",
         "1.881919583",
         "0.899467588434661",
         "5.825841588",
         "1"
        ],
        [
         "6923",
         "S366I",
         "1.877318843",
         "0.898757267625159",
         "5.821240848",
         "1"
        ],
        [
         "7014",
         "S371E",
         "1.875403112",
         "0.898461492685757",
         "5.819325117",
         "1"
        ],
        [
         "7435",
         "D393I",
         "1.860546727",
         "0.89616777484483",
         "5.804468732",
         "1"
        ],
        [
         "6482",
         "E343F",
         "1.832313398",
         "0.891808754098125",
         "5.776235403",
         "1"
        ],
        [
         "1956",
         "Q104Y",
         "1.830376173",
         "0.891509660641379",
         "5.7742981780000004",
         "1"
        ],
        [
         "6963",
         "H368M",
         "1.821861366",
         "0.890195036341595",
         "5.765783371",
         "1"
        ],
        [
         "7421",
         "S392N",
         "1.819035444",
         "0.889758734528707",
         "5.762957449",
         "1"
        ],
        [
         "1949",
         "Q104N",
         "1.812905586",
         "0.888812329016401",
         "5.756827591",
         "1"
        ],
        [
         "7199",
         "H380W",
         "1.78090135",
         "0.883871107642667",
         "5.724823355",
         "1"
        ],
        [
         "1842",
         "P98Y",
         "1.764176168",
         "0.881288861130737",
         "5.708098173",
         "1"
        ],
        [
         "936",
         "I50G",
         "1.759106442",
         "0.880506132292274",
         "5.703028447",
         "1"
        ],
        [
         "3201",
         "T170L",
         "1.757137659",
         "0.880202166509749",
         "5.701059664000001",
         "1"
        ],
        [
         "6573",
         "A347Y",
         "1.751621222",
         "0.879350468740389",
         "5.695543227",
         "1"
        ],
        [
         "6878",
         "A364C",
         "1.748980993",
         "0.878942836576749",
         "5.692902998",
         "1"
        ],
        [
         "7394",
         "D391F",
         "1.748360103",
         "0.8788469756745",
         "5.692282108000001",
         "1"
        ],
        [
         "7415",
         "S392G",
         "1.739032099",
         "0.877406799669703",
         "5.682954104",
         "1"
        ],
        [
         "6891",
         "A364R",
         "1.709757832",
         "0.872887065663217",
         "5.653679837",
         "1"
        ],
        [
         "3123",
         "S166I",
         "1.708834176",
         "0.872744459891619",
         "5.652756181",
         "1"
        ],
        [
         "6558",
         "A347F",
         "1.701894706",
         "0.871673056172237",
         "5.645816711",
         "1"
        ],
        [
         "7282",
         "F385H",
         "1.696195511",
         "0.870793141896293",
         "5.640117516",
         "1"
        ],
        [
         "6939",
         "S367F",
         "1.690890444",
         "0.869974078118314",
         "5.634812449",
         "1"
        ],
        [
         "7071",
         "G374E",
         "1.684203806",
         "0.868941709821692",
         "5.628125811",
         "1"
        ],
        [
         "6958",
         "H368F",
         "1.68146902",
         "0.868519478744662",
         "5.625391025",
         "1"
        ],
        [
         "2134",
         "L114H",
         "1.672785205",
         "0.867178760838334",
         "5.61670721",
         "1"
        ],
        [
         "7443",
         "D393S",
         "1.664631782",
         "0.865919931600957",
         "5.608553787",
         "1"
        ],
        [
         "882",
         "P47K",
         "1.660949323",
         "0.865351386702129",
         "5.604871328",
         "1"
        ],
        [
         "861",
         "S46H",
         "1.656938245",
         "0.864732105418698",
         "5.60086025",
         "1"
        ],
        [
         "2870",
         "P153C",
         "1.652080476",
         "0.863982101200148",
         "5.596002481",
         "1"
        ],
        [
         "644",
         "P34W",
         "1.649152979",
         "0.863530116945691",
         "5.593074984",
         "1"
        ],
        [
         "7437",
         "D393L",
         "1.639006714",
         "0.861963607391094",
         "5.582928719",
         "1"
        ],
        [
         "6637",
         "K351H",
         "1.637643394",
         "0.861753120694169",
         "5.5815653990000005",
         "1"
        ],
        [
         "7397",
         "D391I",
         "1.636036694",
         "0.86150505789457",
         "5.5799586990000005",
         "1"
        ],
        [
         "810",
         "L43Q",
         "1.632981379",
         "0.861033339470125",
         "5.576903384",
         "1"
        ],
        [
         "7286",
         "F385M",
         "1.623507127",
         "0.859570583837323",
         "5.567429132",
         "1"
        ],
        [
         "7352",
         "E388Y",
         "1.619739044",
         "0.858988819215364",
         "5.563661049",
         "1"
        ],
        [
         "3126",
         "S166M",
         "1.612322956",
         "0.857843829141704",
         "5.556244961",
         "1"
        ],
        [
         "3127",
         "S166N",
         "1.612013443",
         "0.857796042584604",
         "5.555935448",
         "1"
        ],
        [
         "7220",
         "K382A",
         "1.609332344",
         "0.85738210039008",
         "5.553254349",
         "1"
        ],
        [
         "7362",
         "G389M",
         "1.602261005",
         "0.85629033705576",
         "5.54618301",
         "1"
        ],
        [
         "6846",
         "S362H",
         "1.601447463",
         "0.856164732085255",
         "5.5453694680000005",
         "1"
        ],
        [
         "7263",
         "M384G",
         "1.601315931",
         "0.856144424500667",
         "5.545237936",
         "1"
        ],
        [
         "3198",
         "T170H",
         "1.597114311",
         "0.85549572491764",
         "5.541036316",
         "1"
        ],
        [
         "6572",
         "A347W",
         "1.592489511",
         "0.85478168941905",
         "5.536411516",
         "1"
        ]
       ],
       "shape": {
        "columns": 5,
        "rows": 7448
       }
      },
      "text/html": [
       "<div>\n",
       "<style scoped>\n",
       "    .dataframe tbody tr th:only-of-type {\n",
       "        vertical-align: middle;\n",
       "    }\n",
       "\n",
       "    .dataframe tbody tr th {\n",
       "        vertical-align: top;\n",
       "    }\n",
       "\n",
       "    .dataframe thead th {\n",
       "        text-align: right;\n",
       "    }\n",
       "</style>\n",
       "<table border=\"1\" class=\"dataframe\">\n",
       "  <thead>\n",
       "    <tr style=\"text-align: right;\">\n",
       "      <th></th>\n",
       "      <th>hgvs_pro</th>\n",
       "      <th>score</th>\n",
       "      <th>activity_scaled</th>\n",
       "      <th>score_shifted</th>\n",
       "      <th>binary_true</th>\n",
       "    </tr>\n",
       "  </thead>\n",
       "  <tbody>\n",
       "    <tr>\n",
       "      <th>2225</th>\n",
       "      <td>A119E</td>\n",
       "      <td>2.533067</td>\n",
       "      <td>1.000000</td>\n",
       "      <td>6.476989</td>\n",
       "      <td>1</td>\n",
       "    </tr>\n",
       "    <tr>\n",
       "      <th>628</th>\n",
       "      <td>P34C</td>\n",
       "      <td>2.099894</td>\n",
       "      <td>0.933121</td>\n",
       "      <td>6.043816</td>\n",
       "      <td>1</td>\n",
       "    </tr>\n",
       "    <tr>\n",
       "      <th>7017</th>\n",
       "      <td>S371H</td>\n",
       "      <td>1.971965</td>\n",
       "      <td>0.913370</td>\n",
       "      <td>5.915887</td>\n",
       "      <td>1</td>\n",
       "    </tr>\n",
       "    <tr>\n",
       "      <th>7440</th>\n",
       "      <td>D393P</td>\n",
       "      <td>1.950754</td>\n",
       "      <td>0.910095</td>\n",
       "      <td>5.894676</td>\n",
       "      <td>1</td>\n",
       "    </tr>\n",
       "    <tr>\n",
       "      <th>7210</th>\n",
       "      <td>K381M</td>\n",
       "      <td>1.916446</td>\n",
       "      <td>0.904798</td>\n",
       "      <td>5.860368</td>\n",
       "      <td>1</td>\n",
       "    </tr>\n",
       "    <tr>\n",
       "      <th>...</th>\n",
       "      <td>...</td>\n",
       "      <td>...</td>\n",
       "      <td>...</td>\n",
       "      <td>...</td>\n",
       "      <td>...</td>\n",
       "    </tr>\n",
       "    <tr>\n",
       "      <th>2076</th>\n",
       "      <td>L111G</td>\n",
       "      <td>-3.010790</td>\n",
       "      <td>0.144069</td>\n",
       "      <td>0.933132</td>\n",
       "      <td>0</td>\n",
       "    </tr>\n",
       "    <tr>\n",
       "      <th>3159</th>\n",
       "      <td>H168G</td>\n",
       "      <td>-3.088137</td>\n",
       "      <td>0.132127</td>\n",
       "      <td>0.855785</td>\n",
       "      <td>0</td>\n",
       "    </tr>\n",
       "    <tr>\n",
       "      <th>4017</th>\n",
       "      <td>R213K</td>\n",
       "      <td>-3.231805</td>\n",
       "      <td>0.109946</td>\n",
       "      <td>0.712117</td>\n",
       "      <td>0</td>\n",
       "    </tr>\n",
       "    <tr>\n",
       "      <th>2244</th>\n",
       "      <td>K120D</td>\n",
       "      <td>-3.624908</td>\n",
       "      <td>0.049253</td>\n",
       "      <td>0.319014</td>\n",
       "      <td>0</td>\n",
       "    </tr>\n",
       "    <tr>\n",
       "      <th>6240</th>\n",
       "      <td>L330K</td>\n",
       "      <td>-3.943922</td>\n",
       "      <td>0.000000</td>\n",
       "      <td>0.000000</td>\n",
       "      <td>0</td>\n",
       "    </tr>\n",
       "  </tbody>\n",
       "</table>\n",
       "<p>7448 rows × 5 columns</p>\n",
       "</div>"
      ],
      "text/plain": [
       "     hgvs_pro     score  activity_scaled  score_shifted  binary_true\n",
       "2225    A119E  2.533067         1.000000       6.476989            1\n",
       "628      P34C  2.099894         0.933121       6.043816            1\n",
       "7017    S371H  1.971965         0.913370       5.915887            1\n",
       "7440    D393P  1.950754         0.910095       5.894676            1\n",
       "7210    K381M  1.916446         0.904798       5.860368            1\n",
       "...       ...       ...              ...            ...          ...\n",
       "2076    L111G -3.010790         0.144069       0.933132            0\n",
       "3159    H168G -3.088137         0.132127       0.855785            0\n",
       "4017    R213K -3.231805         0.109946       0.712117            0\n",
       "2244    K120D -3.624908         0.049253       0.319014            0\n",
       "6240    L330K -3.943922         0.000000       0.000000            0\n",
       "\n",
       "[7448 rows x 5 columns]"
      ]
     },
     "execution_count": 3,
     "metadata": {},
     "output_type": "execute_result"
    }
   ],
   "source": [
    "#Load reference/labels dataframe and add shifted score and binary columns for future mapping\n",
    "reference['score_shifted'] = reference['score'] - reference['score'].min()\n",
    "reference['binary_true'] = [1 if x > cutoff else 0 for x in reference['score']]\n",
    "print(f\"minimum value {reference['score'].min()}\")\n",
    "print(f\"maximum value {reference['score'].max()}\")\n",
    "print(f\"minimum_shifted {reference['score_shifted'].min()}\")\n",
    "print(f\"maximum_shifted {reference['score_shifted'].max()}\")\n",
    "#reference.head(10)\n",
    "reference.sort_values(by='score' , ascending=False)"
   ]
  },
  {
   "cell_type": "code",
   "execution_count": 4,
   "id": "98e58210",
   "metadata": {},
   "outputs": [],
   "source": [
    "rows = []\n",
    "for z in range(1,4):\n",
    "    for i in range(1, 11):\n",
    "        if not PATH_FOLDER.exists():\n",
    "            print('Check path')\n",
    "                \n",
    "            break\n",
    "            \n",
    "        else:\n",
    "            df_sorted_all = pd.read_csv( PATH_FOLDER / f'REPL{z}' / f'Round{i}' / 'df_sorted_all.csv')\n",
    "\n",
    "            #Prepare suggested dataframe, adding true scores and binary labels\n",
    "\n",
    "            suggested = df_sorted_all[['variant' , 'y_pred']].copy()\n",
    "            \n",
    "            #Map true shifted scores and binary labels\n",
    "            suggested['y_score'] = suggested['variant'].map(reference.set_index('hgvs_pro')['score_shifted'])\n",
    "            suggested['binary_true'] = suggested['variant'].map(reference.set_index('hgvs_pro')['binary_true'])\n",
    "            suggested['binary_predicted'] = [1 if x > cutoff else 0 for x in suggested['y_pred']]\n",
    "\n",
    "            #Sort by predicted scores\n",
    "            suggested.sort_values(by='y_pred', ascending=False, inplace=True)\n",
    "            #Reset index, just in case\n",
    "            suggested.reset_index(drop=True, inplace=True)\n",
    "\n",
    "            #Reshape for nDCG\n",
    "            y_true = suggested['y_score'].values.reshape(1, -1)\n",
    "            y_score = suggested['y_pred'].values.reshape(1, -1)\n",
    "\n",
    "            #nDCG@k\n",
    "            ndcg = ndcg_score(y_true , y_score , k=k_value)\n",
    "\n",
    "\n",
    "            #Spearman/p-value\n",
    "            rho, pval = spearmanr(suggested['y_score'], suggested['y_pred'])\n",
    "\n",
    "            #mAP\n",
    "            AP = average_precision_score(suggested['binary_true'] , suggested['y_pred'])\n",
    "            \n",
    "            row_log = {'': f'Round{i}', f'nDCG@k={k_value}' : ndcg ,'Spearman_rho': rho, 'Spearman_pval': pval, 'AP' : AP }\n",
    "\n",
    "            rows.append(row_log)\n",
    "metrics_df = pd.DataFrame(rows)\n",
    "\n",
    "if aggregate_metrics is False:\n",
    "#Output df contains nDCG@k, Spearman rho and p-value, MCC for each round\n",
    "    metrics_df.to_csv(LOG_NAME + '.csv', index=False)"
   ]
  },
  {
   "cell_type": "code",
   "execution_count": null,
   "id": "a1a11758",
   "metadata": {},
   "outputs": [],
   "source": [
    "metrics_agg = metrics_df.groupby('').agg(nDCG_mean=(f'nDCG@k={k_value}' , 'mean'), nDCG_std=(f'nDCG@k={k_value}' , 'std') , spearman_mean=('Spearman_rho' , 'mean') , spearman_std=('Spearman_rho' , 'std'), mAP=('AP' , 'mean'), AP_std=('AP' , 'std')).reset_index()\n",
    "metrics_agg['round_n'] = metrics_agg[''].apply(lambda x : int(re.search(r'\\d+' , x).group()))\n",
    "metrics_agg.sort_values(by='round_n', inplace=True)\n",
    "\n",
    "\n",
    "metrics_agg.to_csv(LOG_NAME + '_aggregate.csv', index=False)"
   ]
  },
  {
   "cell_type": "code",
   "execution_count": null,
   "id": "55846b15",
   "metadata": {},
   "outputs": [
    {
     "ename": "NameError",
     "evalue": "name 'mean_df_boltz' is not defined",
     "output_type": "error",
     "traceback": [
      "\u001b[0;31m---------------------------------------------------------------------------\u001b[0m",
      "\u001b[0;31mNameError\u001b[0m                                 Traceback (most recent call last)",
      "Cell \u001b[0;32mIn[13], line 8\u001b[0m\n\u001b[1;32m      4\u001b[0m color\u001b[38;5;241m=\u001b[39msns\u001b[38;5;241m.\u001b[39mcolor_palette(\u001b[38;5;124m\"\u001b[39m\u001b[38;5;124mSet2\u001b[39m\u001b[38;5;124m\"\u001b[39m)\n\u001b[1;32m      7\u001b[0m plt\u001b[38;5;241m.\u001b[39mfigure(figsize\u001b[38;5;241m=\u001b[39m(\u001b[38;5;241m12\u001b[39m,\u001b[38;5;241m6\u001b[39m))\n\u001b[0;32m----> 8\u001b[0m boltz_spearman_mean \u001b[38;5;241m=\u001b[39m mean_df_boltz[\u001b[38;5;124m'\u001b[39m\u001b[38;5;124mmean_spearman\u001b[39m\u001b[38;5;124m'\u001b[39m]\n\u001b[1;32m      9\u001b[0m boltz_spearman_std \u001b[38;5;241m=\u001b[39m mean_df_boltz[\u001b[38;5;124m'\u001b[39m\u001b[38;5;124mstd_spearman\u001b[39m\u001b[38;5;124m'\u001b[39m]\n\u001b[1;32m     10\u001b[0m esm_spearman_mean \u001b[38;5;241m=\u001b[39m mean_df_esm[\u001b[38;5;124m'\u001b[39m\u001b[38;5;124mmean_spearman\u001b[39m\u001b[38;5;124m'\u001b[39m]\n",
      "\u001b[0;31mNameError\u001b[0m: name 'mean_df_boltz' is not defined"
     ]
    },
    {
     "data": {
      "text/plain": [
       "<Figure size 1200x600 with 0 Axes>"
      ]
     },
     "metadata": {},
     "output_type": "display_data"
    }
   ],
   "source": [
    "#spearman graph - lineplot \n",
    "#check whether you have both aggregate dfs, otherwise\n",
    "\n",
    "\n",
    "color=sns.color_palette(\"Set2\")\n",
    "\n",
    "\n",
    "plt.figure(figsize=(12,6))\n",
    "boltz_spearman_mean = mean_df_boltz['mean_spearman']\n",
    "boltz_spearman_std = mean_df_boltz['std_spearman']\n",
    "esm_spearman_mean = mean_df_esm['mean_spearman']\n",
    "esm_spearman_std = mean_df_esm['std_spearman']\n",
    "\n",
    "#Boltz data\n",
    "plt.plot(range(1,11) , boltz_spearman_mean , label='Spearman@k boltz2', color=color[3] , marker='^')\n",
    "plt.fill_between(range(1,11), boltz_spearman_mean - boltz_spearman_std , boltz_spearman_mean + boltz_spearman_std , color=color[3], alpha=0.2)\n",
    "\n",
    "\n",
    "#ESM data\n",
    "plt.plot(range(1,11) , esm_spearman_mean , label='Spearman@k esm2', color=color[1] , marker='^')\n",
    "plt.fill_between(range(1,11), esm_spearman_mean - esm_spearman_std , esm_spearman_mean + esm_spearman_std , color=color[1], alpha=0.2)\n",
    "\n",
    "\n",
    "plt.title(graph_title , fontsize=10)\n",
    "plt.xticks(range(1,11))\n",
    "plt.xlabel('Round')\n",
    "plt.legend()\n",
    "plt.ylim(-1,1)\n",
    "plt.xlim(0.8 , 10.2)\n",
    "\n",
    "if plotting_spearman is True:\n",
    "    plt.yticks([-1,-0.8,-0.6,-0.4,-0.2,0,0.2,0.4,0.6,0.8,1])\n",
    "    plt.savefig(LOG_NAME + 'spearman_rho.png' , dpi=400)\n",
    "    plt.show()\n",
    "else:\n",
    "    plt.yticks([0.4,0.6,0.8,1])\n",
    "    plt.savefig(LOG_NAME + 'nDCG@K.png' , dpi=400)\n",
    "    plt.show()\n"
   ]
  },
  {
   "cell_type": "code",
   "execution_count": 195,
   "id": "38af8a22",
   "metadata": {},
   "outputs": [
    {
     "data": {
      "image/png": "[encoded data removed]",
      "text/plain": [
       "<Figure size 1200x600 with 1 Axes>"
      ]
     },
     "metadata": {},
     "output_type": "display_data"
    }
   ],
   "source": [
    "#nDCG@k graph - lineplot\n",
    "\n",
    "\n",
    "color=sns.color_palette(\"Set2\")\n",
    "\n",
    "\n",
    "plt.figure(figsize=(12,6))\n",
    "boltz_spearman_mean = mean_df_boltz['mean_nDCG']\n",
    "boltz_spearman_std = mean_df_boltz['std_nDCG']\n",
    "esm_spearman_mean = mean_df_esm['mean_nDCG']\n",
    "esm_spearman_std = mean_df_esm['std_nDCG']\n",
    "\n",
    "#Boltz data\n",
    "plt.plot(range(1,11) , boltz_spearman_mean , label='nDCG@k boltz2', color=color[3] , marker='^')\n",
    "plt.fill_between(range(1,11), boltz_spearman_mean - boltz_spearman_std , boltz_spearman_mean + boltz_spearman_std , color=color[3], alpha=0.2)\n",
    "\n",
    "\n",
    "#ESM data\n",
    "plt.plot(range(1,11) , esm_spearman_mean , label='nDCG@k esm2', color=color[1] , marker='^')\n",
    "plt.fill_between(range(1,11), esm_spearman_mean - esm_spearman_std , esm_spearman_mean + esm_spearman_std , color=color[1], alpha=0.2)\n",
    "\n",
    "#plt.errorbar(range(1,11), mean_df_boltz['mean_spearman'], yerr=mean_df_boltz['std_spearman'], label='Spearman@k boltz2', color=color[3], marker='^', capsize=3)\n",
    "#plt.errorbar(range(1,11), mean_df_esm['mean_spearman'], yerr=mean_df_esm['std_spearman'], label='Spearman@k esm2', color=color[1], marker='o', capsize=3)\n",
    "\n",
    "plt.title('Giacomelli mean nDCG k=10 ' , fontsize=10)\n",
    "plt.xticks(range(1,11))\n",
    "plt.xlabel('Round')\n",
    "plt.legend()\n",
    "plt.ylim(0.5,1)\n",
    "plt.xlim(0.8 , 10.2)\n",
    "#plt.yticks([-1,-0.8,-0.6,-0.4,-0.2,0,0.2,0.4,0.6,0.8,1])\n",
    "\n",
    "plt.yticks([0.5,0.8,1])\n",
    "\n",
    "plt.savefig(Path(LOG_NAME).stem + '.png' , dpi=400)\n",
    "\n",
    "plt.show()"
   ]
  },
  {
   "cell_type": "code",
   "execution_count": 260,
   "id": "884a98cb",
   "metadata": {},
   "outputs": [
    {
     "data": {
      "application/vnd.microsoft.datawrangler.viewer.v0+json": {
       "columns": [
        {
         "name": "index",
         "rawType": "int64",
         "type": "integer"
        },
        {
         "name": "",
         "rawType": "object",
         "type": "string"
        },
        {
         "name": "spearman_mean",
         "rawType": "float64",
         "type": "float"
        },
        {
         "name": "spearman_std",
         "rawType": "float64",
         "type": "float"
        },
        {
         "name": "mAP",
         "rawType": "float64",
         "type": "float"
        },
        {
         "name": "AP_std",
         "rawType": "float64",
         "type": "float"
        },
        {
         "name": "round_n",
         "rawType": "int64",
         "type": "integer"
        }
       ],
       "ref": "4d4bbbf2-6297-47b2-988f-fccf7bbb3ded",
       "rows": [
        [
         "0",
         "Round1",
         "0.270315934383024",
         "0.14176861681764563",
         "0.16060611681239345",
         "0.02682916643382793",
         "1"
        ],
        [
         "2",
         "Round2",
         "0.21938542927406326",
         "0.046389613553966126",
         "0.1664772664903654",
         "0.013235480340392524",
         "2"
        ],
        [
         "3",
         "Round3",
         "0.18155754149378547",
         "0.04159706232875079",
         "0.17270958836970932",
         "0.013444819989452255",
         "3"
        ],
        [
         "4",
         "Round4",
         "0.18483450314123262",
         "0.06715260322754642",
         "0.17369939807815923",
         "0.01338096909799459",
         "4"
        ],
        [
         "5",
         "Round5",
         "0.17895769455669583",
         "0.05787722075008258",
         "0.1743903662200331",
         "0.008918022497497707",
         "5"
        ],
        [
         "6",
         "Round6",
         "0.18339562864919487",
         "0.06691249998838143",
         "0.17780553148248165",
         "0.013240329940648412",
         "6"
        ],
        [
         "7",
         "Round7",
         "0.20213868439021135",
         "0.06376774678092614",
         "0.18430374765896596",
         "0.011005135017445244",
         "7"
        ],
        [
         "8",
         "Round8",
         "0.21295009281205826",
         "0.03303355402683573",
         "0.18832862005151776",
         "0.005659162828333283",
         "8"
        ],
        [
         "9",
         "Round9",
         "0.22968885851105483",
         "0.029694651392702807",
         "0.19972131812195956",
         "0.01321296161326883",
         "9"
        ],
        [
         "1",
         "Round10",
         "0.23108264737411613",
         "0.030136101301055235",
         "0.20329140544891766",
         "0.015890561264215463",
         "10"
        ]
       ],
       "shape": {
        "columns": 6,
        "rows": 10
       }
      },
      "text/html": [
       "<div>\n",
       "<style scoped>\n",
       "    .dataframe tbody tr th:only-of-type {\n",
       "        vertical-align: middle;\n",
       "    }\n",
       "\n",
       "    .dataframe tbody tr th {\n",
       "        vertical-align: top;\n",
       "    }\n",
       "\n",
       "    .dataframe thead th {\n",
       "        text-align: right;\n",
       "    }\n",
       "</style>\n",
       "<table border=\"1\" class=\"dataframe\">\n",
       "  <thead>\n",
       "    <tr style=\"text-align: right;\">\n",
       "      <th></th>\n",
       "      <th></th>\n",
       "      <th>spearman_mean</th>\n",
       "      <th>spearman_std</th>\n",
       "      <th>mAP</th>\n",
       "      <th>AP_std</th>\n",
       "      <th>round_n</th>\n",
       "    </tr>\n",
       "  </thead>\n",
       "  <tbody>\n",
       "    <tr>\n",
       "      <th>0</th>\n",
       "      <td>Round1</td>\n",
       "      <td>0.270316</td>\n",
       "      <td>0.141769</td>\n",
       "      <td>0.160606</td>\n",
       "      <td>0.026829</td>\n",
       "      <td>1</td>\n",
       "    </tr>\n",
       "    <tr>\n",
       "      <th>2</th>\n",
       "      <td>Round2</td>\n",
       "      <td>0.219385</td>\n",
       "      <td>0.046390</td>\n",
       "      <td>0.166477</td>\n",
       "      <td>0.013235</td>\n",
       "      <td>2</td>\n",
       "    </tr>\n",
       "    <tr>\n",
       "      <th>3</th>\n",
       "      <td>Round3</td>\n",
       "      <td>0.181558</td>\n",
       "      <td>0.041597</td>\n",
       "      <td>0.172710</td>\n",
       "      <td>0.013445</td>\n",
       "      <td>3</td>\n",
       "    </tr>\n",
       "    <tr>\n",
       "      <th>4</th>\n",
       "      <td>Round4</td>\n",
       "      <td>0.184835</td>\n",
       "      <td>0.067153</td>\n",
       "      <td>0.173699</td>\n",
       "      <td>0.013381</td>\n",
       "      <td>4</td>\n",
       "    </tr>\n",
       "    <tr>\n",
       "      <th>5</th>\n",
       "      <td>Round5</td>\n",
       "      <td>0.178958</td>\n",
       "      <td>0.057877</td>\n",
       "      <td>0.174390</td>\n",
       "      <td>0.008918</td>\n",
       "      <td>5</td>\n",
       "    </tr>\n",
       "    <tr>\n",
       "      <th>6</th>\n",
       "      <td>Round6</td>\n",
       "      <td>0.183396</td>\n",
       "      <td>0.066912</td>\n",
       "      <td>0.177806</td>\n",
       "      <td>0.013240</td>\n",
       "      <td>6</td>\n",
       "    </tr>\n",
       "    <tr>\n",
       "      <th>7</th>\n",
       "      <td>Round7</td>\n",
       "      <td>0.202139</td>\n",
       "      <td>0.063768</td>\n",
       "      <td>0.184304</td>\n",
       "      <td>0.011005</td>\n",
       "      <td>7</td>\n",
       "    </tr>\n",
       "    <tr>\n",
       "      <th>8</th>\n",
       "      <td>Round8</td>\n",
       "      <td>0.212950</td>\n",
       "      <td>0.033034</td>\n",
       "      <td>0.188329</td>\n",
       "      <td>0.005659</td>\n",
       "      <td>8</td>\n",
       "    </tr>\n",
       "    <tr>\n",
       "      <th>9</th>\n",
       "      <td>Round9</td>\n",
       "      <td>0.229689</td>\n",
       "      <td>0.029695</td>\n",
       "      <td>0.199721</td>\n",
       "      <td>0.013213</td>\n",
       "      <td>9</td>\n",
       "    </tr>\n",
       "    <tr>\n",
       "      <th>1</th>\n",
       "      <td>Round10</td>\n",
       "      <td>0.231083</td>\n",
       "      <td>0.030136</td>\n",
       "      <td>0.203291</td>\n",
       "      <td>0.015891</td>\n",
       "      <td>10</td>\n",
       "    </tr>\n",
       "  </tbody>\n",
       "</table>\n",
       "</div>"
      ],
      "text/plain": [
       "            spearman_mean  spearman_std       mAP    AP_std  round_n\n",
       "0   Round1       0.270316      0.141769  0.160606  0.026829        1\n",
       "2   Round2       0.219385      0.046390  0.166477  0.013235        2\n",
       "3   Round3       0.181558      0.041597  0.172710  0.013445        3\n",
       "4   Round4       0.184835      0.067153  0.173699  0.013381        4\n",
       "5   Round5       0.178958      0.057877  0.174390  0.008918        5\n",
       "6   Round6       0.183396      0.066912  0.177806  0.013240        6\n",
       "7   Round7       0.202139      0.063768  0.184304  0.011005        7\n",
       "8   Round8       0.212950      0.033034  0.188329  0.005659        8\n",
       "9   Round9       0.229689      0.029695  0.199721  0.013213        9\n",
       "1  Round10       0.231083      0.030136  0.203291  0.015891       10"
      ]
     },
     "execution_count": 260,
     "metadata": {},
     "output_type": "execute_result"
    }
   ],
   "source": [
    "SAP_boltz2 = spearman_AP_boltz_df.groupby('').agg(spearman_mean=('Spearman_rho' , 'mean') , spearman_std=('Spearman_rho' , 'std'), mAP=('AP' , 'mean'), AP_std=('AP' , 'std')).reset_index()\n",
    "SAP_boltz2['round_n'] = SAP_boltz2[''].apply(lambda x : int(re.search(r'\\d+' , x).group()))\n",
    "SAP_boltz2.sort_values(by='round_n', inplace=True)\n",
    "SAP_boltz2"
   ]
  },
  {
   "cell_type": "code",
   "execution_count": 261,
   "id": "2439d3e2",
   "metadata": {},
   "outputs": [
    {
     "data": {
      "application/vnd.microsoft.datawrangler.viewer.v0+json": {
       "columns": [
        {
         "name": "index",
         "rawType": "int64",
         "type": "integer"
        },
        {
         "name": "",
         "rawType": "object",
         "type": "string"
        },
        {
         "name": "spearman_mean",
         "rawType": "float64",
         "type": "float"
        },
        {
         "name": "spearman_std",
         "rawType": "float64",
         "type": "float"
        },
        {
         "name": "mAP",
         "rawType": "float64",
         "type": "float"
        },
        {
         "name": "AP_std",
         "rawType": "float64",
         "type": "float"
        },
        {
         "name": "round_n",
         "rawType": "int64",
         "type": "integer"
        }
       ],
       "ref": "6c2f120b-861d-481f-a792-bf85bb0bc6a8",
       "rows": [
        [
         "0",
         "Round1",
         "0.1692386382390537",
         "0.06817896690826347",
         "0.1284610670507337",
         "0.007561361244819099",
         "1"
        ],
        [
         "2",
         "Round2",
         "0.16942504229322009",
         "0.028507732878621985",
         "0.13513787047066753",
         "0.014095268602943236",
         "2"
        ],
        [
         "3",
         "Round3",
         "0.12661624078088815",
         "0.10948119050165765",
         "0.14368385386442536",
         "0.007531664760543386",
         "3"
        ],
        [
         "4",
         "Round4",
         "0.11170200962532618",
         "0.1252027871508793",
         "0.14715410457632658",
         "0.010207468230285848",
         "4"
        ],
        [
         "5",
         "Round5",
         "0.12350570726918725",
         "0.1077377073424779",
         "0.1502979303997138",
         "0.010849070447873053",
         "5"
        ],
        [
         "6",
         "Round6",
         "0.11963406484239893",
         "0.12253793855349619",
         "0.1551666177133781",
         "0.014064365049729927",
         "6"
        ],
        [
         "7",
         "Round7",
         "0.12238848542547441",
         "0.118467917217171",
         "0.16295079116345879",
         "0.015029223817844752",
         "7"
        ],
        [
         "8",
         "Round8",
         "0.1455182551649555",
         "0.10459860154683268",
         "0.1672682824073518",
         "0.012784169354278183",
         "8"
        ],
        [
         "9",
         "Round9",
         "0.15648068173734292",
         "0.08783759384504007",
         "0.1728841366559701",
         "0.005593052191411512",
         "9"
        ],
        [
         "1",
         "Round10",
         "0.13314764670753265",
         "0.09131268103007437",
         "0.17081829737883503",
         "0.00694750951330072",
         "10"
        ]
       ],
       "shape": {
        "columns": 6,
        "rows": 10
       }
      },
      "text/html": [
       "<div>\n",
       "<style scoped>\n",
       "    .dataframe tbody tr th:only-of-type {\n",
       "        vertical-align: middle;\n",
       "    }\n",
       "\n",
       "    .dataframe tbody tr th {\n",
       "        vertical-align: top;\n",
       "    }\n",
       "\n",
       "    .dataframe thead th {\n",
       "        text-align: right;\n",
       "    }\n",
       "</style>\n",
       "<table border=\"1\" class=\"dataframe\">\n",
       "  <thead>\n",
       "    <tr style=\"text-align: right;\">\n",
       "      <th></th>\n",
       "      <th></th>\n",
       "      <th>spearman_mean</th>\n",
       "      <th>spearman_std</th>\n",
       "      <th>mAP</th>\n",
       "      <th>AP_std</th>\n",
       "      <th>round_n</th>\n",
       "    </tr>\n",
       "  </thead>\n",
       "  <tbody>\n",
       "    <tr>\n",
       "      <th>0</th>\n",
       "      <td>Round1</td>\n",
       "      <td>0.169239</td>\n",
       "      <td>0.068179</td>\n",
       "      <td>0.128461</td>\n",
       "      <td>0.007561</td>\n",
       "      <td>1</td>\n",
       "    </tr>\n",
       "    <tr>\n",
       "      <th>2</th>\n",
       "      <td>Round2</td>\n",
       "      <td>0.169425</td>\n",
       "      <td>0.028508</td>\n",
       "      <td>0.135138</td>\n",
       "      <td>0.014095</td>\n",
       "      <td>2</td>\n",
       "    </tr>\n",
       "    <tr>\n",
       "      <th>3</th>\n",
       "      <td>Round3</td>\n",
       "      <td>0.126616</td>\n",
       "      <td>0.109481</td>\n",
       "      <td>0.143684</td>\n",
       "      <td>0.007532</td>\n",
       "      <td>3</td>\n",
       "    </tr>\n",
       "    <tr>\n",
       "      <th>4</th>\n",
       "      <td>Round4</td>\n",
       "      <td>0.111702</td>\n",
       "      <td>0.125203</td>\n",
       "      <td>0.147154</td>\n",
       "      <td>0.010207</td>\n",
       "      <td>4</td>\n",
       "    </tr>\n",
       "    <tr>\n",
       "      <th>5</th>\n",
       "      <td>Round5</td>\n",
       "      <td>0.123506</td>\n",
       "      <td>0.107738</td>\n",
       "      <td>0.150298</td>\n",
       "      <td>0.010849</td>\n",
       "      <td>5</td>\n",
       "    </tr>\n",
       "    <tr>\n",
       "      <th>6</th>\n",
       "      <td>Round6</td>\n",
       "      <td>0.119634</td>\n",
       "      <td>0.122538</td>\n",
       "      <td>0.155167</td>\n",
       "      <td>0.014064</td>\n",
       "      <td>6</td>\n",
       "    </tr>\n",
       "    <tr>\n",
       "      <th>7</th>\n",
       "      <td>Round7</td>\n",
       "      <td>0.122388</td>\n",
       "      <td>0.118468</td>\n",
       "      <td>0.162951</td>\n",
       "      <td>0.015029</td>\n",
       "      <td>7</td>\n",
       "    </tr>\n",
       "    <tr>\n",
       "      <th>8</th>\n",
       "      <td>Round8</td>\n",
       "      <td>0.145518</td>\n",
       "      <td>0.104599</td>\n",
       "      <td>0.167268</td>\n",
       "      <td>0.012784</td>\n",
       "      <td>8</td>\n",
       "    </tr>\n",
       "    <tr>\n",
       "      <th>9</th>\n",
       "      <td>Round9</td>\n",
       "      <td>0.156481</td>\n",
       "      <td>0.087838</td>\n",
       "      <td>0.172884</td>\n",
       "      <td>0.005593</td>\n",
       "      <td>9</td>\n",
       "    </tr>\n",
       "    <tr>\n",
       "      <th>1</th>\n",
       "      <td>Round10</td>\n",
       "      <td>0.133148</td>\n",
       "      <td>0.091313</td>\n",
       "      <td>0.170818</td>\n",
       "      <td>0.006948</td>\n",
       "      <td>10</td>\n",
       "    </tr>\n",
       "  </tbody>\n",
       "</table>\n",
       "</div>"
      ],
      "text/plain": [
       "            spearman_mean  spearman_std       mAP    AP_std  round_n\n",
       "0   Round1       0.169239      0.068179  0.128461  0.007561        1\n",
       "2   Round2       0.169425      0.028508  0.135138  0.014095        2\n",
       "3   Round3       0.126616      0.109481  0.143684  0.007532        3\n",
       "4   Round4       0.111702      0.125203  0.147154  0.010207        4\n",
       "5   Round5       0.123506      0.107738  0.150298  0.010849        5\n",
       "6   Round6       0.119634      0.122538  0.155167  0.014064        6\n",
       "7   Round7       0.122388      0.118468  0.162951  0.015029        7\n",
       "8   Round8       0.145518      0.104599  0.167268  0.012784        8\n",
       "9   Round9       0.156481      0.087838  0.172884  0.005593        9\n",
       "1  Round10       0.133148      0.091313  0.170818  0.006948       10"
      ]
     },
     "execution_count": 261,
     "metadata": {},
     "output_type": "execute_result"
    }
   ],
   "source": [
    "SAP_esm2 = spearman_AP_esm_df.groupby('').agg(spearman_mean=('Spearman_rho' , 'mean') , spearman_std=('Spearman_rho' , 'std'), mAP=('AP' , 'mean'), AP_std=('AP' , 'std')).reset_index()\n",
    "SAP_esm2['round_n'] = SAP_esm2[''].apply(lambda x : int(re.search(r'\\d+' , x).group()))\n",
    "SAP_esm2.sort_values(by='round_n', inplace=True)\n",
    "SAP_esm2"
   ]
  },
  {
   "cell_type": "code",
   "execution_count": 264,
   "id": "6a668526",
   "metadata": {},
   "outputs": [
    {
     "data": {
      "application/vnd.microsoft.datawrangler.viewer.v0+json": {
       "columns": [
        {
         "name": "index",
         "rawType": "int64",
         "type": "integer"
        },
        {
         "name": "",
         "rawType": "object",
         "type": "string"
        },
        {
         "name": "Spearman_rho",
         "rawType": "float64",
         "type": "float"
        },
        {
         "name": "Spearman_pval",
         "rawType": "float64",
         "type": "float"
        },
        {
         "name": "AP",
         "rawType": "float64",
         "type": "float"
        }
       ],
       "ref": "7198b4b8-142f-423e-9ea4-2a85c4be664c",
       "rows": [
        [
         "0",
         "Round1",
         "0.1211226265912824",
         "1.2941529700654064e-25",
         "0.13207560365852908"
        ],
        [
         "1",
         "Round2",
         "0.2522991079905273",
         "6.1909402005561875e-108",
         "0.17811725307584328"
        ],
        [
         "2",
         "Round3",
         "0.22604834187805645",
         "1.8314839498073107e-86",
         "0.1786503354563042"
        ],
        [
         "3",
         "Round4",
         "0.2616682337558765",
         "3.048262728221381e-116",
         "0.18850798193752952"
        ],
        [
         "4",
         "Round5",
         "0.24434585994455102",
         "3.762216686741286e-101",
         "0.18466742472952874"
        ],
        [
         "5",
         "Round6",
         "0.26036316183261166",
         "4.591574034478935e-115",
         "0.19309402481060087"
        ],
        [
         "6",
         "Round7",
         "0.2721476857776403",
         "6.029749507592695e-126",
         "0.19679832975069045"
        ],
        [
         "7",
         "Round8",
         "0.25094162898766875",
         "9.267594667864048e-107",
         "0.19464517361762315"
        ],
        [
         "8",
         "Round9",
         "0.2372783275933288",
         "2.5079659615376924e-95",
         "0.19696512323542292"
        ],
        [
         "9",
         "Round10",
         "0.24227673111559592",
         "1.9965507354444545e-99",
         "0.19855666609622075"
        ],
        [
         "10",
         "Round1",
         "0.4032594682041095",
         "8.851879772060267e-288",
         "0.18532658911722522"
        ],
        [
         "11",
         "Round2",
         "0.16632922433801892",
         "4.2247036729714817e-47",
         "0.15208050375579474"
        ],
        [
         "12",
         "Round3",
         "0.14363597770027117",
         "1.909824411048104e-35",
         "0.15731770817107368"
        ],
        [
         "13",
         "Round4",
         "0.15546780358452147",
         "2.66256603498034e-41",
         "0.16247676657982849"
        ],
        [
         "14",
         "Round5",
         "0.15822452956007146",
         "9.81666334177436e-43",
         "0.1686882089317584"
        ],
        [
         "15",
         "Round6",
         "0.15076692665489877",
         "6.444485802728553e-39",
         "0.17010822113713864"
        ],
        [
         "16",
         "Round7",
         "0.18689222821177076",
         "3.2914624918179745e-59",
         "0.18006321033916675"
        ],
        [
         "17",
         "Round8",
         "0.19690357478262982",
         "1.200298703170258e-65",
         "0.18372052010597933"
        ],
        [
         "18",
         "Round9",
         "0.19693601127898008",
         "1.1424710345224076e-65",
         "0.1881038433614237"
        ],
        [
         "19",
         "Round10",
         "0.19695134594545155",
         "1.116107313966422e-65",
         "0.19030636099138143"
        ],
        [
         "20",
         "Round1",
         "0.28656570835368",
         "5.077338382851466e-140",
         "0.1644161576614261"
        ],
        [
         "21",
         "Round2",
         "0.2395279554936436",
         "3.6836903078475136e-97",
         "0.16923404263945818"
        ],
        [
         "22",
         "Round3",
         "0.1749883049030288",
         "5.10822553211663e-52",
         "0.18216072148175003"
        ],
        [
         "23",
         "Round4",
         "0.13736747208329983",
         "1.548740605211086e-32",
         "0.17011344571711973"
        ],
        [
         "24",
         "Round5",
         "0.134302694165465",
         "3.6627579836398654e-31",
         "0.1698154649988121"
        ],
        [
         "25",
         "Round6",
         "0.13905679746007416",
         "2.6250576325978547e-33",
         "0.17021434849970546"
        ],
        [
         "26",
         "Round7",
         "0.147376139181223",
         "3.0317344504106063e-37",
         "0.17604970288704067"
        ],
        [
         "27",
         "Round8",
         "0.19100507466587627",
         "8.240368044142313e-62",
         "0.18662016643095086"
        ],
        [
         "28",
         "Round9",
         "0.25485223666085566",
         "3.6473541284999535e-110",
         "0.21409498776903205"
        ],
        [
         "29",
         "Round10",
         "0.2540198650613009",
         "1.9576129326873917e-109",
         "0.2210111892591508"
        ]
       ],
       "shape": {
        "columns": 4,
        "rows": 30
       }
      },
      "text/html": [
       "<div>\n",
       "<style scoped>\n",
       "    .dataframe tbody tr th:only-of-type {\n",
       "        vertical-align: middle;\n",
       "    }\n",
       "\n",
       "    .dataframe tbody tr th {\n",
       "        vertical-align: top;\n",
       "    }\n",
       "\n",
       "    .dataframe thead th {\n",
       "        text-align: right;\n",
       "    }\n",
       "</style>\n",
       "<table border=\"1\" class=\"dataframe\">\n",
       "  <thead>\n",
       "    <tr style=\"text-align: right;\">\n",
       "      <th></th>\n",
       "      <th></th>\n",
       "      <th>Spearman_rho</th>\n",
       "      <th>Spearman_pval</th>\n",
       "      <th>AP</th>\n",
       "    </tr>\n",
       "  </thead>\n",
       "  <tbody>\n",
       "    <tr>\n",
       "      <th>0</th>\n",
       "      <td>Round1</td>\n",
       "      <td>0.121123</td>\n",
       "      <td>1.294153e-25</td>\n",
       "      <td>0.132076</td>\n",
       "    </tr>\n",
       "    <tr>\n",
       "      <th>1</th>\n",
       "      <td>Round2</td>\n",
       "      <td>0.252299</td>\n",
       "      <td>6.190940e-108</td>\n",
       "      <td>0.178117</td>\n",
       "    </tr>\n",
       "    <tr>\n",
       "      <th>2</th>\n",
       "      <td>Round3</td>\n",
       "      <td>0.226048</td>\n",
       "      <td>1.831484e-86</td>\n",
       "      <td>0.178650</td>\n",
       "    </tr>\n",
       "    <tr>\n",
       "      <th>3</th>\n",
       "      <td>Round4</td>\n",
       "      <td>0.261668</td>\n",
       "      <td>3.048263e-116</td>\n",
       "      <td>0.188508</td>\n",
       "    </tr>\n",
       "    <tr>\n",
       "      <th>4</th>\n",
       "      <td>Round5</td>\n",
       "      <td>0.244346</td>\n",
       "      <td>3.762217e-101</td>\n",
       "      <td>0.184667</td>\n",
       "    </tr>\n",
       "    <tr>\n",
       "      <th>5</th>\n",
       "      <td>Round6</td>\n",
       "      <td>0.260363</td>\n",
       "      <td>4.591574e-115</td>\n",
       "      <td>0.193094</td>\n",
       "    </tr>\n",
       "    <tr>\n",
       "      <th>6</th>\n",
       "      <td>Round7</td>\n",
       "      <td>0.272148</td>\n",
       "      <td>6.029750e-126</td>\n",
       "      <td>0.196798</td>\n",
       "    </tr>\n",
       "    <tr>\n",
       "      <th>7</th>\n",
       "      <td>Round8</td>\n",
       "      <td>0.250942</td>\n",
       "      <td>9.267595e-107</td>\n",
       "      <td>0.194645</td>\n",
       "    </tr>\n",
       "    <tr>\n",
       "      <th>8</th>\n",
       "      <td>Round9</td>\n",
       "      <td>0.237278</td>\n",
       "      <td>2.507966e-95</td>\n",
       "      <td>0.196965</td>\n",
       "    </tr>\n",
       "    <tr>\n",
       "      <th>9</th>\n",
       "      <td>Round10</td>\n",
       "      <td>0.242277</td>\n",
       "      <td>1.996551e-99</td>\n",
       "      <td>0.198557</td>\n",
       "    </tr>\n",
       "    <tr>\n",
       "      <th>10</th>\n",
       "      <td>Round1</td>\n",
       "      <td>0.403259</td>\n",
       "      <td>8.851880e-288</td>\n",
       "      <td>0.185327</td>\n",
       "    </tr>\n",
       "    <tr>\n",
       "      <th>11</th>\n",
       "      <td>Round2</td>\n",
       "      <td>0.166329</td>\n",
       "      <td>4.224704e-47</td>\n",
       "      <td>0.152081</td>\n",
       "    </tr>\n",
       "    <tr>\n",
       "      <th>12</th>\n",
       "      <td>Round3</td>\n",
       "      <td>0.143636</td>\n",
       "      <td>1.909824e-35</td>\n",
       "      <td>0.157318</td>\n",
       "    </tr>\n",
       "    <tr>\n",
       "      <th>13</th>\n",
       "      <td>Round4</td>\n",
       "      <td>0.155468</td>\n",
       "      <td>2.662566e-41</td>\n",
       "      <td>0.162477</td>\n",
       "    </tr>\n",
       "    <tr>\n",
       "      <th>14</th>\n",
       "      <td>Round5</td>\n",
       "      <td>0.158225</td>\n",
       "      <td>9.816663e-43</td>\n",
       "      <td>0.168688</td>\n",
       "    </tr>\n",
       "    <tr>\n",
       "      <th>15</th>\n",
       "      <td>Round6</td>\n",
       "      <td>0.150767</td>\n",
       "      <td>6.444486e-39</td>\n",
       "      <td>0.170108</td>\n",
       "    </tr>\n",
       "    <tr>\n",
       "      <th>16</th>\n",
       "      <td>Round7</td>\n",
       "      <td>0.186892</td>\n",
       "      <td>3.291462e-59</td>\n",
       "      <td>0.180063</td>\n",
       "    </tr>\n",
       "    <tr>\n",
       "      <th>17</th>\n",
       "      <td>Round8</td>\n",
       "      <td>0.196904</td>\n",
       "      <td>1.200299e-65</td>\n",
       "      <td>0.183721</td>\n",
       "    </tr>\n",
       "    <tr>\n",
       "      <th>18</th>\n",
       "      <td>Round9</td>\n",
       "      <td>0.196936</td>\n",
       "      <td>1.142471e-65</td>\n",
       "      <td>0.188104</td>\n",
       "    </tr>\n",
       "    <tr>\n",
       "      <th>19</th>\n",
       "      <td>Round10</td>\n",
       "      <td>0.196951</td>\n",
       "      <td>1.116107e-65</td>\n",
       "      <td>0.190306</td>\n",
       "    </tr>\n",
       "    <tr>\n",
       "      <th>20</th>\n",
       "      <td>Round1</td>\n",
       "      <td>0.286566</td>\n",
       "      <td>5.077338e-140</td>\n",
       "      <td>0.164416</td>\n",
       "    </tr>\n",
       "    <tr>\n",
       "      <th>21</th>\n",
       "      <td>Round2</td>\n",
       "      <td>0.239528</td>\n",
       "      <td>3.683690e-97</td>\n",
       "      <td>0.169234</td>\n",
       "    </tr>\n",
       "    <tr>\n",
       "      <th>22</th>\n",
       "      <td>Round3</td>\n",
       "      <td>0.174988</td>\n",
       "      <td>5.108226e-52</td>\n",
       "      <td>0.182161</td>\n",
       "    </tr>\n",
       "    <tr>\n",
       "      <th>23</th>\n",
       "      <td>Round4</td>\n",
       "      <td>0.137367</td>\n",
       "      <td>1.548741e-32</td>\n",
       "      <td>0.170113</td>\n",
       "    </tr>\n",
       "    <tr>\n",
       "      <th>24</th>\n",
       "      <td>Round5</td>\n",
       "      <td>0.134303</td>\n",
       "      <td>3.662758e-31</td>\n",
       "      <td>0.169815</td>\n",
       "    </tr>\n",
       "    <tr>\n",
       "      <th>25</th>\n",
       "      <td>Round6</td>\n",
       "      <td>0.139057</td>\n",
       "      <td>2.625058e-33</td>\n",
       "      <td>0.170214</td>\n",
       "    </tr>\n",
       "    <tr>\n",
       "      <th>26</th>\n",
       "      <td>Round7</td>\n",
       "      <td>0.147376</td>\n",
       "      <td>3.031734e-37</td>\n",
       "      <td>0.176050</td>\n",
       "    </tr>\n",
       "    <tr>\n",
       "      <th>27</th>\n",
       "      <td>Round8</td>\n",
       "      <td>0.191005</td>\n",
       "      <td>8.240368e-62</td>\n",
       "      <td>0.186620</td>\n",
       "    </tr>\n",
       "    <tr>\n",
       "      <th>28</th>\n",
       "      <td>Round9</td>\n",
       "      <td>0.254852</td>\n",
       "      <td>3.647354e-110</td>\n",
       "      <td>0.214095</td>\n",
       "    </tr>\n",
       "    <tr>\n",
       "      <th>29</th>\n",
       "      <td>Round10</td>\n",
       "      <td>0.254020</td>\n",
       "      <td>1.957613e-109</td>\n",
       "      <td>0.221011</td>\n",
       "    </tr>\n",
       "  </tbody>\n",
       "</table>\n",
       "</div>"
      ],
      "text/plain": [
       "             Spearman_rho  Spearman_pval        AP\n",
       "0    Round1      0.121123   1.294153e-25  0.132076\n",
       "1    Round2      0.252299  6.190940e-108  0.178117\n",
       "2    Round3      0.226048   1.831484e-86  0.178650\n",
       "3    Round4      0.261668  3.048263e-116  0.188508\n",
       "4    Round5      0.244346  3.762217e-101  0.184667\n",
       "5    Round6      0.260363  4.591574e-115  0.193094\n",
       "6    Round7      0.272148  6.029750e-126  0.196798\n",
       "7    Round8      0.250942  9.267595e-107  0.194645\n",
       "8    Round9      0.237278   2.507966e-95  0.196965\n",
       "9   Round10      0.242277   1.996551e-99  0.198557\n",
       "10   Round1      0.403259  8.851880e-288  0.185327\n",
       "11   Round2      0.166329   4.224704e-47  0.152081\n",
       "12   Round3      0.143636   1.909824e-35  0.157318\n",
       "13   Round4      0.155468   2.662566e-41  0.162477\n",
       "14   Round5      0.158225   9.816663e-43  0.168688\n",
       "15   Round6      0.150767   6.444486e-39  0.170108\n",
       "16   Round7      0.186892   3.291462e-59  0.180063\n",
       "17   Round8      0.196904   1.200299e-65  0.183721\n",
       "18   Round9      0.196936   1.142471e-65  0.188104\n",
       "19  Round10      0.196951   1.116107e-65  0.190306\n",
       "20   Round1      0.286566  5.077338e-140  0.164416\n",
       "21   Round2      0.239528   3.683690e-97  0.169234\n",
       "22   Round3      0.174988   5.108226e-52  0.182161\n",
       "23   Round4      0.137367   1.548741e-32  0.170113\n",
       "24   Round5      0.134303   3.662758e-31  0.169815\n",
       "25   Round6      0.139057   2.625058e-33  0.170214\n",
       "26   Round7      0.147376   3.031734e-37  0.176050\n",
       "27   Round8      0.191005   8.240368e-62  0.186620\n",
       "28   Round9      0.254852  3.647354e-110  0.214095\n",
       "29  Round10      0.254020  1.957613e-109  0.221011"
      ]
     },
     "execution_count": 264,
     "metadata": {},
     "output_type": "execute_result"
    }
   ],
   "source": [
    "spearman_AP_boltz_df"
   ]
  },
  {
   "cell_type": "code",
   "execution_count": 263,
   "id": "b0a819cc",
   "metadata": {},
   "outputs": [
    {
     "data": {
      "image/png": "[encoded data removed]",
      "text/plain": [
       "<Figure size 1200x600 with 1 Axes>"
      ]
     },
     "metadata": {},
     "output_type": "display_data"
    }
   ],
   "source": [
    "#mAP\n",
    "\n",
    "color=sns.color_palette(\"Set2\")\n",
    "\n",
    "\n",
    "plt.figure(figsize=(12,6))\n",
    "boltz_AP_mean = SAP_boltz2['mAP']\n",
    "boltz_AP_std = SAP_boltz2['AP_std']\n",
    "esm_AP_mean = SAP_esm2['mAP']\n",
    "esm_AP_std = SAP_esm2['AP_std']\n",
    "\n",
    "#Boltz data\n",
    "plt.plot(range(1,11) , boltz_AP_mean , label='mAP boltz2', color=color[3] , marker='^')\n",
    "plt.fill_between(range(1,11), boltz_AP_mean - boltz_AP_std , boltz_AP_mean + boltz_AP_std , color=color[3], alpha=0.2)\n",
    "\n",
    "\n",
    "#ESM data\n",
    "plt.plot(range(1,11) , esm_AP_mean , label='mAP esm2', color=color[1] , marker='^')\n",
    "plt.fill_between(range(1,11), esm_AP_mean - esm_AP_std , esm_AP_mean + esm_AP_std , color=color[1], alpha=0.2)\n",
    "\n",
    "#plt.errorbar(range(1,11), mean_df_boltz['mean_spearman'], yerr=mean_df_boltz['std_spearman'], label='Spearman@k boltz2', color=color[3], marker='^', capsize=3)\n",
    "#plt.errorbar(range(1,11), mean_df_esm['mean_spearman'], yerr=mean_df_esm['std_spearman'], label='Spearman@k esm2', color=color[1], marker='o', capsize=3)\n",
    "\n",
    "plt.title('Giacomelli mAP whole dataset ' , fontsize=10)\n",
    "plt.xticks(range(1,11))\n",
    "plt.xlabel('Round')\n",
    "plt.legend()\n",
    "plt.ylim(0,1)\n",
    "plt.xlim(0.8 , 10.2)\n",
    "\n",
    "plt.yticks([0,0.2,0.4,0.6,0.8,1])\n",
    "\n",
    "plt.savefig('Giacomelli_mAP_whole_dataset' + '.png' , dpi=400)\n",
    "\n",
    "plt.show()"
   ]
  },
  {
   "cell_type": "code",
   "execution_count": null,
   "id": "8fae2061",
   "metadata": {},
   "outputs": [],
   "source": [
    "mean_spearman_booo = spearman_boltz_df.groupby('').agg(spearman_mean=('Spearman_rho' , 'mean') , spearman_std=('Spearman_rho' , 'std')).reset_index()\n",
    "\n",
    "mean_spearman_booo['round_n'] = mean_spearman_booo[''].apply(lambda x: int(re.search(r'\\d+', x).group()))\n",
    "\n",
    "true_esm_sperman_mean"
   ]
  },
  {
   "cell_type": "code",
   "execution_count": 217,
   "id": "3d5c1c69",
   "metadata": {},
   "outputs": [
    {
     "data": {
      "application/vnd.microsoft.datawrangler.viewer.v0+json": {
       "columns": [
        {
         "name": "index",
         "rawType": "int64",
         "type": "integer"
        },
        {
         "name": "",
         "rawType": "object",
         "type": "string"
        },
        {
         "name": "spearman_mean",
         "rawType": "float64",
         "type": "float"
        },
        {
         "name": "spearman_std",
         "rawType": "float64",
         "type": "float"
        },
        {
         "name": "round_n",
         "rawType": "int64",
         "type": "integer"
        }
       ],
       "ref": "fdaf75e7-3256-46b7-b8b3-272c99cadb7c",
       "rows": [
        [
         "0",
         "Round1",
         "0.270315934383024",
         "0.14176861681764563",
         "1"
        ],
        [
         "2",
         "Round2",
         "0.21938542927406326",
         "0.046389613553966126",
         "2"
        ],
        [
         "3",
         "Round3",
         "0.18155754149378547",
         "0.04159706232875079",
         "3"
        ],
        [
         "4",
         "Round4",
         "0.18483450314123262",
         "0.06715260322754642",
         "4"
        ],
        [
         "5",
         "Round5",
         "0.17895769455669583",
         "0.05787722075008258",
         "5"
        ],
        [
         "6",
         "Round6",
         "0.18339562864919487",
         "0.06691249998838143",
         "6"
        ],
        [
         "7",
         "Round7",
         "0.20213868439021135",
         "0.06376774678092614",
         "7"
        ],
        [
         "8",
         "Round8",
         "0.21295009281205826",
         "0.03303355402683573",
         "8"
        ],
        [
         "9",
         "Round9",
         "0.22968885851105483",
         "0.029694651392702807",
         "9"
        ],
        [
         "1",
         "Round10",
         "0.23108264737411613",
         "0.030136101301055235",
         "10"
        ]
       ],
       "shape": {
        "columns": 4,
        "rows": 10
       }
      },
      "text/html": [
       "<div>\n",
       "<style scoped>\n",
       "    .dataframe tbody tr th:only-of-type {\n",
       "        vertical-align: middle;\n",
       "    }\n",
       "\n",
       "    .dataframe tbody tr th {\n",
       "        vertical-align: top;\n",
       "    }\n",
       "\n",
       "    .dataframe thead th {\n",
       "        text-align: right;\n",
       "    }\n",
       "</style>\n",
       "<table border=\"1\" class=\"dataframe\">\n",
       "  <thead>\n",
       "    <tr style=\"text-align: right;\">\n",
       "      <th></th>\n",
       "      <th></th>\n",
       "      <th>spearman_mean</th>\n",
       "      <th>spearman_std</th>\n",
       "      <th>round_n</th>\n",
       "    </tr>\n",
       "  </thead>\n",
       "  <tbody>\n",
       "    <tr>\n",
       "      <th>0</th>\n",
       "      <td>Round1</td>\n",
       "      <td>0.270316</td>\n",
       "      <td>0.141769</td>\n",
       "      <td>1</td>\n",
       "    </tr>\n",
       "    <tr>\n",
       "      <th>2</th>\n",
       "      <td>Round2</td>\n",
       "      <td>0.219385</td>\n",
       "      <td>0.046390</td>\n",
       "      <td>2</td>\n",
       "    </tr>\n",
       "    <tr>\n",
       "      <th>3</th>\n",
       "      <td>Round3</td>\n",
       "      <td>0.181558</td>\n",
       "      <td>0.041597</td>\n",
       "      <td>3</td>\n",
       "    </tr>\n",
       "    <tr>\n",
       "      <th>4</th>\n",
       "      <td>Round4</td>\n",
       "      <td>0.184835</td>\n",
       "      <td>0.067153</td>\n",
       "      <td>4</td>\n",
       "    </tr>\n",
       "    <tr>\n",
       "      <th>5</th>\n",
       "      <td>Round5</td>\n",
       "      <td>0.178958</td>\n",
       "      <td>0.057877</td>\n",
       "      <td>5</td>\n",
       "    </tr>\n",
       "    <tr>\n",
       "      <th>6</th>\n",
       "      <td>Round6</td>\n",
       "      <td>0.183396</td>\n",
       "      <td>0.066912</td>\n",
       "      <td>6</td>\n",
       "    </tr>\n",
       "    <tr>\n",
       "      <th>7</th>\n",
       "      <td>Round7</td>\n",
       "      <td>0.202139</td>\n",
       "      <td>0.063768</td>\n",
       "      <td>7</td>\n",
       "    </tr>\n",
       "    <tr>\n",
       "      <th>8</th>\n",
       "      <td>Round8</td>\n",
       "      <td>0.212950</td>\n",
       "      <td>0.033034</td>\n",
       "      <td>8</td>\n",
       "    </tr>\n",
       "    <tr>\n",
       "      <th>9</th>\n",
       "      <td>Round9</td>\n",
       "      <td>0.229689</td>\n",
       "      <td>0.029695</td>\n",
       "      <td>9</td>\n",
       "    </tr>\n",
       "    <tr>\n",
       "      <th>1</th>\n",
       "      <td>Round10</td>\n",
       "      <td>0.231083</td>\n",
       "      <td>0.030136</td>\n",
       "      <td>10</td>\n",
       "    </tr>\n",
       "  </tbody>\n",
       "</table>\n",
       "</div>"
      ],
      "text/plain": [
       "            spearman_mean  spearman_std  round_n\n",
       "0   Round1       0.270316      0.141769        1\n",
       "2   Round2       0.219385      0.046390        2\n",
       "3   Round3       0.181558      0.041597        3\n",
       "4   Round4       0.184835      0.067153        4\n",
       "5   Round5       0.178958      0.057877        5\n",
       "6   Round6       0.183396      0.066912        6\n",
       "7   Round7       0.202139      0.063768        7\n",
       "8   Round8       0.212950      0.033034        8\n",
       "9   Round9       0.229689      0.029695        9\n",
       "1  Round10       0.231083      0.030136       10"
      ]
     },
     "execution_count": 217,
     "metadata": {},
     "output_type": "execute_result"
    }
   ],
   "source": [
    "mean_spearman_booo['round_n'] = mean_spearman_booo[''].apply(lambda x: int(re.search(r'\\d+', x).group()))\n",
    "\n",
    "true_boltz_sperman_mean = mean_spearman_booo.sort_values(by='round_n')\n",
    "\n",
    "true_boltz_sperman_mean"
   ]
  },
  {
   "cell_type": "code",
   "execution_count": 218,
   "id": "9f167e49",
   "metadata": {},
   "outputs": [
    {
     "data": {
      "application/vnd.microsoft.datawrangler.viewer.v0+json": {
       "columns": [
        {
         "name": "index",
         "rawType": "int64",
         "type": "integer"
        },
        {
         "name": "",
         "rawType": "object",
         "type": "string"
        },
        {
         "name": "spearman_mean",
         "rawType": "float64",
         "type": "float"
        },
        {
         "name": "spearman_std",
         "rawType": "float64",
         "type": "float"
        },
        {
         "name": "round_n",
         "rawType": "int64",
         "type": "integer"
        }
       ],
       "ref": "fed38503-8197-4cf3-9cbd-3a701bfb9f74",
       "rows": [
        [
         "0",
         "Round1",
         "0.1692386382390537",
         "0.06817896690826347",
         "1"
        ],
        [
         "2",
         "Round2",
         "0.16942504229322009",
         "0.028507732878621985",
         "2"
        ],
        [
         "3",
         "Round3",
         "0.12661624078088815",
         "0.10948119050165765",
         "3"
        ],
        [
         "4",
         "Round4",
         "0.11170200962532618",
         "0.1252027871508793",
         "4"
        ],
        [
         "5",
         "Round5",
         "0.12350570726918725",
         "0.1077377073424779",
         "5"
        ],
        [
         "6",
         "Round6",
         "0.11963406484239893",
         "0.12253793855349619",
         "6"
        ],
        [
         "7",
         "Round7",
         "0.12238848542547441",
         "0.118467917217171",
         "7"
        ],
        [
         "8",
         "Round8",
         "0.1455182551649555",
         "0.10459860154683268",
         "8"
        ],
        [
         "9",
         "Round9",
         "0.15648068173734292",
         "0.08783759384504007",
         "9"
        ],
        [
         "1",
         "Round10",
         "0.13314764670753265",
         "0.09131268103007437",
         "10"
        ]
       ],
       "shape": {
        "columns": 4,
        "rows": 10
       }
      },
      "text/html": [
       "<div>\n",
       "<style scoped>\n",
       "    .dataframe tbody tr th:only-of-type {\n",
       "        vertical-align: middle;\n",
       "    }\n",
       "\n",
       "    .dataframe tbody tr th {\n",
       "        vertical-align: top;\n",
       "    }\n",
       "\n",
       "    .dataframe thead th {\n",
       "        text-align: right;\n",
       "    }\n",
       "</style>\n",
       "<table border=\"1\" class=\"dataframe\">\n",
       "  <thead>\n",
       "    <tr style=\"text-align: right;\">\n",
       "      <th></th>\n",
       "      <th></th>\n",
       "      <th>spearman_mean</th>\n",
       "      <th>spearman_std</th>\n",
       "      <th>round_n</th>\n",
       "    </tr>\n",
       "  </thead>\n",
       "  <tbody>\n",
       "    <tr>\n",
       "      <th>0</th>\n",
       "      <td>Round1</td>\n",
       "      <td>0.169239</td>\n",
       "      <td>0.068179</td>\n",
       "      <td>1</td>\n",
       "    </tr>\n",
       "    <tr>\n",
       "      <th>2</th>\n",
       "      <td>Round2</td>\n",
       "      <td>0.169425</td>\n",
       "      <td>0.028508</td>\n",
       "      <td>2</td>\n",
       "    </tr>\n",
       "    <tr>\n",
       "      <th>3</th>\n",
       "      <td>Round3</td>\n",
       "      <td>0.126616</td>\n",
       "      <td>0.109481</td>\n",
       "      <td>3</td>\n",
       "    </tr>\n",
       "    <tr>\n",
       "      <th>4</th>\n",
       "      <td>Round4</td>\n",
       "      <td>0.111702</td>\n",
       "      <td>0.125203</td>\n",
       "      <td>4</td>\n",
       "    </tr>\n",
       "    <tr>\n",
       "      <th>5</th>\n",
       "      <td>Round5</td>\n",
       "      <td>0.123506</td>\n",
       "      <td>0.107738</td>\n",
       "      <td>5</td>\n",
       "    </tr>\n",
       "    <tr>\n",
       "      <th>6</th>\n",
       "      <td>Round6</td>\n",
       "      <td>0.119634</td>\n",
       "      <td>0.122538</td>\n",
       "      <td>6</td>\n",
       "    </tr>\n",
       "    <tr>\n",
       "      <th>7</th>\n",
       "      <td>Round7</td>\n",
       "      <td>0.122388</td>\n",
       "      <td>0.118468</td>\n",
       "      <td>7</td>\n",
       "    </tr>\n",
       "    <tr>\n",
       "      <th>8</th>\n",
       "      <td>Round8</td>\n",
       "      <td>0.145518</td>\n",
       "      <td>0.104599</td>\n",
       "      <td>8</td>\n",
       "    </tr>\n",
       "    <tr>\n",
       "      <th>9</th>\n",
       "      <td>Round9</td>\n",
       "      <td>0.156481</td>\n",
       "      <td>0.087838</td>\n",
       "      <td>9</td>\n",
       "    </tr>\n",
       "    <tr>\n",
       "      <th>1</th>\n",
       "      <td>Round10</td>\n",
       "      <td>0.133148</td>\n",
       "      <td>0.091313</td>\n",
       "      <td>10</td>\n",
       "    </tr>\n",
       "  </tbody>\n",
       "</table>\n",
       "</div>"
      ],
      "text/plain": [
       "            spearman_mean  spearman_std  round_n\n",
       "0   Round1       0.169239      0.068179        1\n",
       "2   Round2       0.169425      0.028508        2\n",
       "3   Round3       0.126616      0.109481        3\n",
       "4   Round4       0.111702      0.125203        4\n",
       "5   Round5       0.123506      0.107738        5\n",
       "6   Round6       0.119634      0.122538        6\n",
       "7   Round7       0.122388      0.118468        7\n",
       "8   Round8       0.145518      0.104599        8\n",
       "9   Round9       0.156481      0.087838        9\n",
       "1  Round10       0.133148      0.091313       10"
      ]
     },
     "execution_count": 218,
     "metadata": {},
     "output_type": "execute_result"
    }
   ],
   "source": [
    "true_esm_sperman_mean"
   ]
  },
  {
   "cell_type": "code",
   "execution_count": 220,
   "id": "a8b073d0",
   "metadata": {},
   "outputs": [
    {
     "data": {
      "image/png": "[encoded data removed]",
      "text/plain": [
       "<Figure size 1200x600 with 1 Axes>"
      ]
     },
     "metadata": {},
     "output_type": "display_data"
    }
   ],
   "source": [
    "#spearman graph - lineplot\n",
    "\n",
    "\n",
    "color=sns.color_palette(\"Set2\")\n",
    "\n",
    "\n",
    "plt.figure(figsize=(12,6))\n",
    "boltz_spearman_mean = true_boltz_sperman_mean['spearman_mean']\n",
    "boltz_spearman_std = true_boltz_sperman_mean['spearman_std']\n",
    "esm_spearman_mean = true_esm_sperman_mean['spearman_mean']\n",
    "esm_spearman_std = true_esm_sperman_mean['spearman_std']\n",
    "\n",
    "#Boltz data\n",
    "plt.plot(range(1,11) , boltz_spearman_mean , label='Spearman boltz2', color=color[3] , marker='^')\n",
    "plt.fill_between(range(1,11), boltz_spearman_mean - boltz_spearman_std , boltz_spearman_mean + boltz_spearman_std , color=color[3], alpha=0.2)\n",
    "\n",
    "\n",
    "#ESM data\n",
    "plt.plot(range(1,11) , esm_spearman_mean , label='Spearman esm2', color=color[1] , marker='^')\n",
    "plt.fill_between(range(1,11), esm_spearman_mean - esm_spearman_std , esm_spearman_mean + esm_spearman_std , color=color[1], alpha=0.2)\n",
    "\n",
    "#plt.errorbar(range(1,11), mean_df_boltz['mean_spearman'], yerr=mean_df_boltz['std_spearman'], label='Spearman@k boltz2', color=color[3], marker='^', capsize=3)\n",
    "#plt.errorbar(range(1,11), mean_df_esm['mean_spearman'], yerr=mean_df_esm['std_spearman'], label='Spearman@k esm2', color=color[1], marker='o', capsize=3)\n",
    "\n",
    "plt.title('Giacomelli mean Spearman whole dataset ' , fontsize=10)\n",
    "plt.xticks(range(1,11))\n",
    "plt.xlabel('Round')\n",
    "plt.legend()\n",
    "plt.ylim(-1,1)\n",
    "plt.xlim(0.8 , 10.2)\n",
    "plt.yticks([-1,-0.8,-0.6,-0.4,-0.2,0,0.2,0.4,0.6,0.8,1])\n",
    "\n",
    "#plt.yticks([0.4,0.6,0.8,1])\n",
    "\n",
    "plt.savefig('Giacomelli_mean_spearman_whole_dataset' + '.png' , dpi=400)\n",
    "\n",
    "plt.show()"
   ]
  },
  {
   "cell_type": "code",
   "execution_count": null,
   "id": "6576504a",
   "metadata": {},
   "outputs": [],
   "source": []
  }
 ],
 "metadata": {
  "kernelspec": {
   "display_name": "evolvepro",
   "language": "python",
   "name": "python3"
  },
  "language_info": {
   "codemirror_mode": {
    "name": "ipython",
    "version": 3
   },
   "file_extension": ".py",
   "mimetype": "text/x-python",
   "name": "python",
   "nbconvert_exporter": "python",
   "pygments_lexer": "ipython3",
   "version": "3.11.11"
  }
 },
 "nbformat": 4,
 "nbformat_minor": 5
}
